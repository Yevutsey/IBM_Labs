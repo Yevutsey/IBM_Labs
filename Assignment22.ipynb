{
 "cells": [
  {
   "cell_type": "markdown",
   "id": "30671cbf-8f8a-4cf8-ae61-79054502377f",
   "metadata": {},
   "source": [
    "EDEM MAYFORD KOFI YEVUTSEY (01240024M)\n"
   ]
  },
  {
   "cell_type": "code",
   "execution_count": null,
   "id": "26a43448-2795-447b-80c9-d763b74dbcc4",
   "metadata": {},
   "outputs": [],
   "source": []
  },
  {
   "cell_type": "code",
   "execution_count": null,
   "id": "a72e5711-c0c0-445a-867b-32a7e14b5885",
   "metadata": {},
   "outputs": [
    {
     "name": "stdout",
     "output_type": "stream",
     "text": [
      "(3000, 25)\n",
      "   ID               Name  Age  Gender          Location School_Grade  \\\n",
      "0   1    Shannon Francis   13  Female        Hansonfort          9th   \n",
      "1   2    Scott Rodriguez   17  Female      Theodorefort          7th   \n",
      "2   3        Adrian Knox   13   Other       Lindseystad         11th   \n",
      "3   4  Brittany Hamilton   18  Female      West Anthony         12th   \n",
      "4   5       Steven Smith   14   Other  Port Lindsaystad          9th   \n",
      "\n",
      "   Daily_Usage_Hours  Sleep_Hours  Academic_Performance  Social_Interactions  \\\n",
      "0                4.0          6.1                    78                    5   \n",
      "1                5.5          6.5                    70                    5   \n",
      "2                5.8          5.5                    93                    8   \n",
      "3                3.1          3.9                    78                    8   \n",
      "4                2.5          6.7                    56                    4   \n",
      "\n",
      "   ...  Screen_Time_Before_Bed  Phone_Checks_Per_Day  Apps_Used_Daily  \\\n",
      "0  ...                     1.4                    86               19   \n",
      "1  ...                     0.9                    96                9   \n",
      "2  ...                     0.5                   137                8   \n",
      "3  ...                     1.4                   128                7   \n",
      "4  ...                     1.0                    96               20   \n",
      "\n",
      "   Time_on_Social_Media  Time_on_Gaming  Time_on_Education  \\\n",
      "0                   3.6             1.7                1.2   \n",
      "1                   1.1             4.0                1.8   \n",
      "2                   0.3             1.5                0.4   \n",
      "3                   3.1             1.6                0.8   \n",
      "4                   2.6             0.9                1.1   \n",
      "\n",
      "   Phone_Usage_Purpose  Family_Communication  Weekend_Usage_Hours  \\\n",
      "0             Browsing                     4                  8.7   \n",
      "1             Browsing                     2                  5.3   \n",
      "2            Education                     6                  5.7   \n",
      "3         Social Media                     8                  3.0   \n",
      "4               Gaming                    10                  3.7   \n",
      "\n",
      "   Addiction_Level  \n",
      "0             10.0  \n",
      "1             10.0  \n",
      "2              9.2  \n",
      "3              9.8  \n",
      "4              8.6  \n",
      "\n",
      "[5 rows x 25 columns]\n",
      "<class 'pandas.core.frame.DataFrame'>\n",
      "RangeIndex: 3000 entries, 0 to 2999\n",
      "Data columns (total 25 columns):\n",
      " #   Column                  Non-Null Count  Dtype  \n",
      "---  ------                  --------------  -----  \n",
      " 0   ID                      3000 non-null   int64  \n",
      " 1   Name                    3000 non-null   object \n",
      " 2   Age                     3000 non-null   int64  \n",
      " 3   Gender                  3000 non-null   object \n",
      " 4   Location                3000 non-null   object \n",
      " 5   School_Grade            3000 non-null   object \n",
      " 6   Daily_Usage_Hours       3000 non-null   float64\n",
      " 7   Sleep_Hours             3000 non-null   float64\n",
      " 8   Academic_Performance    3000 non-null   int64  \n",
      " 9   Social_Interactions     3000 non-null   int64  \n",
      " 10  Exercise_Hours          3000 non-null   float64\n",
      " 11  Anxiety_Level           3000 non-null   int64  \n",
      " 12  Depression_Level        3000 non-null   int64  \n",
      " 13  Self_Esteem             3000 non-null   int64  \n",
      " 14  Parental_Control        3000 non-null   int64  \n",
      " 15  Screen_Time_Before_Bed  3000 non-null   float64\n",
      " 16  Phone_Checks_Per_Day    3000 non-null   int64  \n",
      " 17  Apps_Used_Daily         3000 non-null   int64  \n",
      " 18  Time_on_Social_Media    3000 non-null   float64\n",
      " 19  Time_on_Gaming          3000 non-null   float64\n",
      " 20  Time_on_Education       3000 non-null   float64\n",
      " 21  Phone_Usage_Purpose     3000 non-null   object \n",
      " 22  Family_Communication    3000 non-null   int64  \n",
      " 23  Weekend_Usage_Hours     3000 non-null   float64\n",
      " 24  Addiction_Level         3000 non-null   float64\n",
      "dtypes: float64(9), int64(11), object(5)\n",
      "memory usage: 586.1+ KB\n",
      "None\n"
     ]
    }
   ],
   "source": [
    "import pandas as pd\n",
    "\n",
    "# Load dataset from the given path\n",
    "file_path = r\"C:\\Users\\Public\\Dataset.csv\"\n",
    "\n",
    "df = pd.read_csv(file_path)\n",
    "\n",
    "# Show basic info\n",
    "print(df.shape)\n",
    "print(df.head())\n",
    "print(df.info())"
   ]
  },
  {
   "cell_type": "code",
   "execution_count": 6,
   "id": "2d746719-7817-4cbf-a2a3-830bc786d57c",
   "metadata": {},
   "outputs": [
    {
     "name": "stdout",
     "output_type": "stream",
     "text": [
      "(3000, 5)\n",
      "   Addiction_Level  Time_on_Social_Media  Time_on_Gaming  Daily_Usage_Hours  \\\n",
      "0             10.0                   3.6             1.7                4.0   \n",
      "1             10.0                   1.1             4.0                5.5   \n",
      "2              9.2                   0.3             1.5                5.8   \n",
      "3              9.8                   3.1             1.6                3.1   \n",
      "4              8.6                   2.6             0.9                2.5   \n",
      "\n",
      "   Academic_Performance  \n",
      "0                    78  \n",
      "1                    70  \n",
      "2                    93  \n",
      "3                    78  \n",
      "4                    56  \n"
     ]
    }
   ],
   "source": [
    "# Select only the required columns\n",
    "selected_columns = [\n",
    "    \"Addiction_Level\",\n",
    "    \"Time_on_Social_Media\",\n",
    "    \"Time_on_Gaming\",\n",
    "    \"Daily_Usage_Hours\",\n",
    "    \"Academic_Performance\"\n",
    "]\n",
    "\n",
    "new_df = df[selected_columns]\n",
    "\n",
    "# Preview the new DataFrame\n",
    "print(new_df.shape)\n",
    "print(new_df.head())\n"
   ]
  },
  {
   "cell_type": "code",
   "execution_count": 8,
   "id": "5f38962f-8547-4f6c-8496-68b811de3417",
   "metadata": {},
   "outputs": [
    {
     "name": "stdout",
     "output_type": "stream",
     "text": [
      "Academic_Performance\n",
      "93     80\n",
      "98     72\n",
      "62     69\n",
      "59     69\n",
      "82     68\n",
      "57     68\n",
      "84     66\n",
      "75     66\n",
      "77     66\n",
      "85     65\n",
      "51     64\n",
      "67     63\n",
      "58     62\n",
      "50     62\n",
      "61     62\n",
      "76     62\n",
      "95     62\n",
      "87     61\n",
      "90     61\n",
      "63     60\n",
      "65     60\n",
      "96     60\n",
      "79     60\n",
      "88     60\n",
      "89     60\n",
      "80     59\n",
      "66     59\n",
      "83     58\n",
      "74     58\n",
      "56     58\n",
      "55     56\n",
      "72     56\n",
      "78     56\n",
      "100    56\n",
      "71     56\n",
      "97     56\n",
      "68     56\n",
      "64     55\n",
      "54     55\n",
      "86     55\n",
      "53     54\n",
      "91     54\n",
      "69     52\n",
      "73     51\n",
      "81     51\n",
      "60     51\n",
      "52     50\n",
      "70     47\n",
      "92     46\n",
      "99     44\n",
      "94     43\n",
      "Name: count, dtype: int64\n"
     ]
    }
   ],
   "source": [
    "print(new_df['Academic_Performance'].value_counts())\n"
   ]
  },
  {
   "cell_type": "code",
   "execution_count": 10,
   "id": "3b7658e8-277c-4fc6-81fb-243fd2ada9c0",
   "metadata": {},
   "outputs": [
    {
     "data": {
      "image/png": "[encoded data removed]",
      "text/plain": [
       "<Figure size 640x480 with 1 Axes>"
      ]
     },
     "metadata": {},
     "output_type": "display_data"
    }
   ],
   "source": [
    "import matplotlib.pyplot as plt\n",
    "\n",
    "new_df['Academic_Performance'].hist(bins=10, edgecolor='black')\n",
    "plt.title(\"Distribution of Academic Performance\")\n",
    "plt.xlabel(\"Academic Performance\")\n",
    "plt.ylabel(\"Frequency\")\n",
    "plt.show()\n"
   ]
  },
  {
   "cell_type": "markdown",
   "id": "b744344f-8ef0-4a5b-90f3-600d558fea97",
   "metadata": {},
   "source": [
    "Since the distribution of Academic Performance is quite even, we can proceed with a normal test-training split"
   ]
  },
  {
   "cell_type": "code",
   "execution_count": 12,
   "id": "7e2d544d-8886-4fbf-95d5-161bf0cbcbf3",
   "metadata": {},
   "outputs": [
    {
     "name": "stdout",
     "output_type": "stream",
     "text": [
      "Training set shape: (2700, 5)\n",
      "Testing set shape: (300, 5)\n"
     ]
    }
   ],
   "source": [
    "from sklearn.model_selection import train_test_split\n",
    "\n",
    "train_df, test_df = train_test_split(new_df, test_size=0.1, random_state=42)\n",
    "\n",
    "print(\"Training set shape:\", train_df.shape)\n",
    "print(\"Testing set shape:\", test_df.shape)\n"
   ]
  },
  {
   "cell_type": "code",
   "execution_count": 14,
   "id": "f4843746-9e8c-43dd-b6a1-2abb7789672f",
   "metadata": {},
   "outputs": [],
   "source": [
    "import statsmodels.api as sm\n",
    "import statsmodels.formula.api as smf\n"
   ]
  },
  {
   "cell_type": "code",
   "execution_count": 16,
   "id": "27755612-f2cf-4d75-98b0-28f8eb27b485",
   "metadata": {},
   "outputs": [
    {
     "name": "stdout",
     "output_type": "stream",
     "text": [
      "                  Generalized Linear Model Regression Results                   \n",
      "================================================================================\n",
      "Dep. Variable:     Academic_Performance   No. Observations:                 2700\n",
      "Model:                              GLM   Df Residuals:                     2695\n",
      "Model Family:                   Poisson   Df Model:                            4\n",
      "Link Function:                      Log   Scale:                          1.0000\n",
      "Method:                            IRLS   Log-Likelihood:                -12176.\n",
      "Date:                  Tue, 19 Aug 2025   Deviance:                       7787.2\n",
      "Time:                          16:44:17   Pearson chi2:                 7.70e+03\n",
      "No. Iterations:                       4   Pseudo R-squ. (CS):            0.01077\n",
      "Covariance Type:              nonrobust                                         \n",
      "========================================================================================\n",
      "                           coef    std err          z      P>|z|      [0.025      0.975]\n",
      "----------------------------------------------------------------------------------------\n",
      "Intercept                4.3143      0.013    338.097      0.000       4.289       4.339\n",
      "Addiction_Level         -0.0022      0.002     -1.094      0.274      -0.006       0.002\n",
      "Time_on_Social_Media     0.0074      0.002      2.991      0.003       0.003       0.012\n",
      "Time_on_Gaming          -0.0087      0.003     -3.374      0.001      -0.014      -0.004\n",
      "Daily_Usage_Hours        0.0030      0.002      1.945      0.052   -2.26e-05       0.006\n",
      "========================================================================================\n"
     ]
    }
   ],
   "source": [
    "# Define the formula for Poisson regression\n",
    "formula = \"Academic_Performance ~ Addiction_Level + Time_on_Social_Media + Time_on_Gaming + Daily_Usage_Hours\"\n",
    "\n",
    "# Fit the Poisson regression model\n",
    "poisson_model = smf.glm(formula=formula, data=train_df, family=sm.families.Poisson()).fit()\n",
    "\n",
    "# Print model summary\n",
    "print(poisson_model.summary())\n"
   ]
  },
  {
   "cell_type": "markdown",
   "id": "f1aba898-0bc5-4b3d-a89a-09850a5907c8",
   "metadata": {},
   "source": [
    "Model Equation\n",
    "ln(E|Academic_Performance) = 4.3143-0.0022(Addiction_Level)+0.0074(Time_on_Social_Media)-0.0087(Time_on_Gaming)+0.0030(Daily_Usage_Hours) "
   ]
  },
  {
   "cell_type": "markdown",
   "id": "8d0c988f-ce94-484d-b7f0-84efe0509292",
   "metadata": {},
   "source": [
    "Interpretation of Coefficients\n",
    "\n",
    "Intercept (4.3143): The baseline log expected value of academic performance when all predictors = 0.\n",
    "\n",
    "Addiction Level (-0.0022): A slight negative relationship; higher addiction level decreases academic performance.\n",
    "\n",
    "Time on Social Media (+0.0074): Positive effect; more time on social media is (surprisingly) associated with higher academic performance (though effect size is small).\n",
    "\n",
    "Time on Gaming (-0.0087): Significant negative effect; more gaming reduces academic performance.\n",
    "\n",
    "Daily Usage Hours (+0.0030): Slight positive relationship; longer usage hours may slightly increase academic performance."
   ]
  },
  {
   "cell_type": "markdown",
   "id": "2fe562a9-2e36-4142-a4a9-b0cf2257b9ee",
   "metadata": {},
   "source": [
    "Assumptions of Poisson Regression\n",
    "Poisson Regression is a type of Generalized Linear Model (GLM) used when the dependent variable represents count data (e.g., number of events, occurrences). For the model to be valid, several key assumptions must hold:\n",
    "\n",
    "1. Nature of the Dependent Variable\n",
    "\n",
    "The outcome variable must represent counts (non-negative integers: 0, 1, 2, …).\n",
    "\n",
    "It cannot take negative values or continuous real values.\n",
    "\n",
    "In your case, Academic Performance must be interpreted as a count-type measure (e.g., scores, number of correct answers, etc.).\n",
    "\n",
    "2. Poisson Distribution Assumption\n",
    "\n",
    "The dependent variable 𝑌 is assumed to follow a Poisson distribution\n",
    "\n",
    "3. Mean-Variance Equality (Equidispersion)\n",
    "\n",
    "A key assumption is that:\n",
    "\n",
    "𝐸[𝑌]=𝑉𝑎𝑟(𝑌)=𝜆\n",
    "E[Y]=Var(Y)=λ\n",
    "\n",
    "This means the variance equals the mean.\n",
    "\n",
    "In real datasets, we often encounter overdispersion (variance > mean) or underdispersion (variance < mean).\n",
    "\n",
    "If this assumption is violated, alternatives like Negative Binomial Regression may be more appropriate.\n",
    "\n",
    "4. Log-Linearity of the Mean\n",
    "\n",
    "The log of the expected value of the dependent variable is modeled as a linear function of the predictors:\n",
    "\n",
    "ln(𝐸[𝑌])=𝛽0+𝛽1𝑋1+𝛽2𝑋2+⋯+𝛽𝑘𝑋𝑘\n",
    "\n",
    "This ensures that predicted counts are always non-negative after exponentiation.\n",
    "\n",
    "5. Independence of Observations\n",
    "\n",
    "Each observation is assumed to be independent of others.\n",
    "\n",
    "Violations (e.g., repeated measures, clustered data) require extensions such as mixed-effects Poisson models or GEE (Generalized Estimating Equations).\n",
    "\n",
    "6. No Excess Zeros (unless modeled)\n",
    "\n",
    "Standard Poisson assumes that zeros occur at a rate consistent with the mean.\n",
    "\n",
    "If the dataset has too many zeros, a Zero-Inflated Poisson (ZIP) or Hurdle Model may be better."
   ]
  },
  {
   "cell_type": "markdown",
   "id": "e95c6996-4e4f-4362-9660-73ef0e03c561",
   "metadata": {},
   "source": [
    "Limitations of Poisson Regression under Overdispersion"
   ]
  },
  {
   "cell_type": "markdown",
   "id": "85a5cdd6-7f29-47ba-a660-eb39c39c1dfb",
   "metadata": {},
   "source": [
    "1. Violation of the Mean-Variance Equality\n",
    "Poisson assumes: 𝑉𝑎𝑟(𝑌)=𝐸[𝑌]=𝜆\n",
    "In real-world data, especially in social sciences, epidemiology, and cybersecurity, the variance often exceeds the mean.\n",
    "Overdispersion invalidates this assumption, leading to unreliable results.\n",
    "\n",
    "2. Underestimation of Standard Errors\n",
    "When overdispersion exists, the model underestimates standard errors of coefficients.\n",
    "Consequence: Predictors may appear statistically significant when they are not.\n",
    "This leads to inflated Type I errors (false positives).\n",
    "\n",
    "3. Poor Goodness-of-Fit\n",
    "Poisson regression may fit poorly to data with overdispersion because it cannot account for the extra variability.\n",
    "This results in: High deviance / Pearson chi-square values relative to degrees of freedom.\n",
    "Residual plots showing systematic patterns (evidence of model misfit).\n",
    "\n",
    "4. Inaccurate Predictions\n",
    "Overdispersion often arises from unobserved heterogeneity (hidden factors not in the model).\n",
    "Poisson regression cannot account for this extra variation, so predictions may be biased or misleading.\n",
    "Particularly problematic for predicting rare but extreme counts (e.g., very high threat levels in your dataset).\n",
    "\n",
    "5. Sensitivity to Excess Zeros\n",
    "Many real datasets contain excess zeros (more zeros than the Poisson model predicts).\n",
    "Poisson regression struggles here, often overpredicting low counts and underpredicting high counts.\n",
    "Specialized models like Zero-Inflated Poisson (ZIP) or Hurdle models handle this better."
   ]
  },
  {
   "cell_type": "markdown",
   "id": "5ab15a4d-d290-4176-913d-84abcdf6396f",
   "metadata": {},
   "source": [
    "Negative Binomial Regression:\n",
    "\n",
    "1. Adds an extra parameter (𝛼α) to allow variance to exceed the mean:\n",
    "𝑉𝑎𝑟(𝑌)=𝜇+𝛼𝜇2\n",
    "\n",
    "2. Handles overdispersion more effectively."
   ]
  },
  {
   "cell_type": "markdown",
   "id": "f3cfcd0d-0a98-4230-8f7b-3dcd6a649c54",
   "metadata": {},
   "source": [
    "Why Negative Binomial Might Be Preferred\n",
    "\n",
    "In the dataset, the target variable Academic Performance is count-based (integers). Poisson regression assumes that the mean equals the variance. If, however, the variance in performance scores is much larger than the mean (overdispersion), then Poisson regression underestimates uncertainty, leading to misleading inferences.\n",
    "\n",
    "Example Situation in Your Dataset\n",
    "\n",
    "Suppose you notice that: \n",
    "\n",
    "1. Most students have mid-range performance scores, but\n",
    "\n",
    "2. A few students either perform extremely poorly (close to zero) or exceptionally high (much higher than average).\n",
    "\n",
    "3. This situation produces greater variability in performance counts than Poisson can model. "
   ]
  },
  {
   "cell_type": "markdown",
   "id": "e00f8f65-5998-4abd-a325-e810cfa1e1da",
   "metadata": {},
   "source": [
    "Step 1. Recall the Model Equation\n",
    "\n",
    "From your fitted Poisson regression model:\n",
    "log(𝜇)=4.3143−0.0022(Addiction_Level)+0.0074(Time_on_Social_Media)−0.0087(Time_on_Gaming)+0.0030(Daily_Usage_Hours)\n",
    "where \n",
    "μ = expected Academic Performance.\n",
    "\n",
    "Step 2. Plug in the New Student’s Values\n",
    "\n",
    "Addiction Level = 7, Time on Social Media = 180 minutes, Time on Gaming = 120 minutes, Daily Usage Hours = 6 hours\n",
    "Substitute into the equation:\n",
    "log(μ)=4.3143−0.0022(7)+0.0074(180)−0.0087(120)+0.0030(6)\n",
    "\n",
    "Step 3. Compute\n",
    "\n",
    "−0.0022×7=−0.0154\n",
    "0.0074×180=1.332\n",
    "−0.0087×120=−1.044\n",
    "0.0030×6=0.018\n",
    "Now add everything:\n",
    "log(μ)=4.3143−0.0154+1.332−1.044+0.018\n",
    "log(μ)=4.6049\n",
    "\n",
    "Step 4. Exponentiate to Get Predicted Count\n",
    "\n",
    "μ=e*sq(4.6049)≈99.9\n",
    "\n",
    "Interpretation of Results\n",
    "The model predicts that this student will have an Academic Performance score of about 100 (count units).\n",
    "The relatively high social media usage (+ effect) and moderate daily usage (+ effect) contribute positively.\n",
    "The gaming time (- effect) reduces the performance slightly.\n",
    "Addiction level has a small negative impact, but not statistically significant in the model."
   ]
  }
 ],
 "metadata": {
  "kernelspec": {
   "display_name": "Python 3 (ipykernel)",
   "language": "python",
   "name": "python3"
  },
  "language_info": {
   "codemirror_mode": {
    "name": "ipython",
    "version": 3
   },
   "file_extension": ".py",
   "mimetype": "text/x-python",
   "name": "python",
   "nbconvert_exporter": "python",
   "pygments_lexer": "ipython3",
   "version": "3.13.1"
  }
 },
 "nbformat": 4,
 "nbformat_minor": 5
}
